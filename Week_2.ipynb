{
 "cells": [
  {
   "cell_type": "markdown",
   "metadata": {},
   "source": [
    "# California Housing Price Prediction\n",
    "\n",
    "## 1. Business Understanding\n",
    "The objective of this assignment is to improve a neural network model for predicting California housing prices. The goal is to achieve a lower Mean Absolute Error (MAE) than 0.3 (in units of $100,000). To achieve this, we will experiment with different model architectures and regularization techniques.\n",
    "\n",
    "## 2. Data Understanding\n",
    "We use the California housing dataset, which contains features such as median income, house age, and average rooms per household. The target variable is the median house value.\n"
   ]
  },
  {
   "cell_type": "code",
   "execution_count": 1,
   "metadata": {},
   "outputs": [
    {
     "name": "stdout",
     "output_type": "stream",
     "text": [
      "   MedInc  HouseAge  AveRooms  AveBedrms  Population  AveOccup  Latitude  \\\n",
      "0  8.3252      41.0  6.984127   1.023810       322.0  2.555556     37.88   \n",
      "1  8.3014      21.0  6.238137   0.971880      2401.0  2.109842     37.86   \n",
      "2  7.2574      52.0  8.288136   1.073446       496.0  2.802260     37.85   \n",
      "3  5.6431      52.0  5.817352   1.073059       558.0  2.547945     37.85   \n",
      "4  3.8462      52.0  6.281853   1.081081       565.0  2.181467     37.85   \n",
      "\n",
      "   Longitude  \n",
      "0    -122.23  \n",
      "1    -122.22  \n",
      "2    -122.24  \n",
      "3    -122.25  \n",
      "4    -122.25  \n",
      "   target\n",
      "0   4.526\n",
      "1   3.585\n",
      "2   3.521\n",
      "3   3.413\n",
      "4   3.422\n"
     ]
    }
   ],
   "source": [
    "# Import necessary libraries\n",
    "import numpy as np\n",
    "import pandas as pd\n",
    "import matplotlib.pyplot as plt\n",
    "from sklearn.datasets import fetch_california_housing\n",
    "\n",
    "# Load the dataset\n",
    "data = fetch_california_housing()\n",
    "X = pd.DataFrame(data.data, columns=data.feature_names)\n",
    "y = pd.DataFrame(data.target, columns=[\"target\"])\n",
    "\n",
    "# Display the first few rows of the dataset\n",
    "print(X.head())\n",
    "print(y.head())\n"
   ]
  },
  {
   "cell_type": "markdown",
   "metadata": {},
   "source": [
    "## 3. Data Preparation\n",
    "We split the data into training, validation, and test sets. We also standardize the features to ensure that all variables contribute equally to the model.\n"
   ]
  },
  {
   "cell_type": "code",
   "execution_count": 2,
   "metadata": {},
   "outputs": [],
   "source": [
    "# Import necessary libraries for data preparation\n",
    "from sklearn.model_selection import train_test_split\n",
    "from sklearn.preprocessing import StandardScaler\n",
    "\n",
    "# Split the data into training, validation, and test sets\n",
    "X_train, X_temp, y_train, y_temp = train_test_split(X, y, test_size=0.3, random_state=42)\n",
    "X_val, X_test, y_val, y_test = train_test_split(X_temp, y_temp, test_size=0.5, random_state=42)\n",
    "\n",
    "# Standardize the data\n",
    "scaler = StandardScaler()\n",
    "X_train_scaled = scaler.fit_transform(X_train)\n",
    "X_val_scaled = scaler.transform(X_val)\n",
    "X_test_scaled = scaler.transform(X_test)\n"
   ]
  },
  {
   "cell_type": "markdown",
   "metadata": {},
   "source": [
    "## 4. Modeling\n",
    "We create a function to build a neural network model. We experiment with different architectures and regularization techniques to find the best model.\n"
   ]
  },
  {
   "cell_type": "code",
   "execution_count": 3,
   "metadata": {},
   "outputs": [
    {
     "name": "stdout",
     "output_type": "stream",
     "text": [
      "Training model with architecture: [64, 64] and dropout rate: 0.0\n"
     ]
    },
    {
     "name": "stderr",
     "output_type": "stream",
     "text": [
      "c:\\Users\\roope\\anaconda3\\Lib\\site-packages\\keras\\src\\layers\\core\\dense.py:87: UserWarning: Do not pass an `input_shape`/`input_dim` argument to a layer. When using Sequential models, prefer using an `Input(shape)` object as the first layer in the model instead.\n",
      "  super().__init__(activity_regularizer=activity_regularizer, **kwargs)\n"
     ]
    },
    {
     "name": "stdout",
     "output_type": "stream",
     "text": [
      "Validation MAE: 0.37029626965522766\n",
      "Training model with architecture: [128, 64] and dropout rate: 0.0\n"
     ]
    },
    {
     "name": "stderr",
     "output_type": "stream",
     "text": [
      "c:\\Users\\roope\\anaconda3\\Lib\\site-packages\\keras\\src\\layers\\core\\dense.py:87: UserWarning: Do not pass an `input_shape`/`input_dim` argument to a layer. When using Sequential models, prefer using an `Input(shape)` object as the first layer in the model instead.\n",
      "  super().__init__(activity_regularizer=activity_regularizer, **kwargs)\n"
     ]
    },
    {
     "name": "stdout",
     "output_type": "stream",
     "text": [
      "Validation MAE: 0.35062935948371887\n",
      "Training model with architecture: [64, 64, 64] and dropout rate: 0.0\n"
     ]
    },
    {
     "name": "stderr",
     "output_type": "stream",
     "text": [
      "c:\\Users\\roope\\anaconda3\\Lib\\site-packages\\keras\\src\\layers\\core\\dense.py:87: UserWarning: Do not pass an `input_shape`/`input_dim` argument to a layer. When using Sequential models, prefer using an `Input(shape)` object as the first layer in the model instead.\n",
      "  super().__init__(activity_regularizer=activity_regularizer, **kwargs)\n"
     ]
    },
    {
     "name": "stdout",
     "output_type": "stream",
     "text": [
      "Validation MAE: 0.35186466574668884\n",
      "Training model with architecture: [128, 128] and dropout rate: 0.2\n"
     ]
    },
    {
     "name": "stderr",
     "output_type": "stream",
     "text": [
      "c:\\Users\\roope\\anaconda3\\Lib\\site-packages\\keras\\src\\layers\\core\\dense.py:87: UserWarning: Do not pass an `input_shape`/`input_dim` argument to a layer. When using Sequential models, prefer using an `Input(shape)` object as the first layer in the model instead.\n",
      "  super().__init__(activity_regularizer=activity_regularizer, **kwargs)\n"
     ]
    },
    {
     "name": "stdout",
     "output_type": "stream",
     "text": [
      "Validation MAE: 0.3466438353061676\n",
      "Training model with architecture: [64, 64] and dropout rate: 0.2\n"
     ]
    },
    {
     "name": "stderr",
     "output_type": "stream",
     "text": [
      "c:\\Users\\roope\\anaconda3\\Lib\\site-packages\\keras\\src\\layers\\core\\dense.py:87: UserWarning: Do not pass an `input_shape`/`input_dim` argument to a layer. When using Sequential models, prefer using an `Input(shape)` object as the first layer in the model instead.\n",
      "  super().__init__(activity_regularizer=activity_regularizer, **kwargs)\n"
     ]
    },
    {
     "name": "stdout",
     "output_type": "stream",
     "text": [
      "Validation MAE: 0.3573443293571472\n"
     ]
    }
   ],
   "source": [
    "# Import necessary libraries for modeling\n",
    "from tensorflow.keras.models import Sequential\n",
    "from tensorflow.keras.layers import Dense, Dropout\n",
    "from tensorflow.keras.optimizers import Adam\n",
    "\n",
    "# Function to create the model\n",
    "def create_model(input_dim, hidden_layers, dropout_rate=0.0):\n",
    "    model = Sequential()\n",
    "    for units in hidden_layers:\n",
    "        model.add(Dense(units, activation='relu', input_dim=input_dim))\n",
    "        if dropout_rate > 0:\n",
    "            model.add(Dropout(dropout_rate))\n",
    "        input_dim = units\n",
    "    model.add(Dense(1))\n",
    "    model.compile(optimizer=Adam(), loss='mean_squared_error', metrics=['mae'])\n",
    "    return model\n",
    "\n",
    "# Experiment with different architectures and regularization\n",
    "architectures = [\n",
    "    {'hidden_layers': [64, 64], 'dropout_rate': 0.0},\n",
    "    {'hidden_layers': [128, 64], 'dropout_rate': 0.0},\n",
    "    {'hidden_layers': [64, 64, 64], 'dropout_rate': 0.0},\n",
    "    {'hidden_layers': [128, 128], 'dropout_rate': 0.2},\n",
    "    {'hidden_layers': [64, 64], 'dropout_rate': 0.2},\n",
    "]\n",
    "\n",
    "results = []\n",
    "\n",
    "for arch in architectures:\n",
    "    print(f\"Training model with architecture: {arch['hidden_layers']} and dropout rate: {arch['dropout_rate']}\")\n",
    "    model = create_model(input_dim=X_train_scaled.shape[1], hidden_layers=arch['hidden_layers'], dropout_rate=arch['dropout_rate'])\n",
    "    history = model.fit(X_train_scaled, y_train, epochs=100, batch_size=32, validation_data=(X_val_scaled, y_val), verbose=0)\n",
    "    \n",
    "    # Evaluate the model\n",
    "    val_mae = model.evaluate(X_val_scaled, y_val, verbose=0)[1]\n",
    "    print(f\"Validation MAE: {val_mae}\")\n",
    "    results.append({'architecture': arch, 'val_mae': val_mae, 'model': model, 'history': history})\n"
   ]
  },
  {
   "cell_type": "markdown",
   "metadata": {},
   "source": [
    "## 5. Evaluation\n",
    "We select the best model based on validation MAE and retrain it using the combined training and validation sets. We then evaluate the model on the test set and plot the training history.\n"
   ]
  },
  {
   "cell_type": "code",
   "execution_count": 4,
   "metadata": {},
   "outputs": [
    {
     "name": "stdout",
     "output_type": "stream",
     "text": [
      "Best architecture: [128, 128] with dropout rate: 0.2\n",
      "Test MAE: 0.331165611743927\n"
     ]
    },
    {
     "data": {
      "image/png": "[encoded data removed]",
      "text/plain": [
       "<Figure size 640x480 with 1 Axes>"
      ]
     },
     "metadata": {},
     "output_type": "display_data"
    }
   ],
   "source": [
    "# Select the best model\n",
    "best_result = min(results, key=lambda x: x['val_mae'])\n",
    "best_model = best_result['model']\n",
    "best_history = best_result['history']\n",
    "best_architecture = best_result['architecture']\n",
    "\n",
    "print(f\"Best architecture: {best_architecture['hidden_layers']} with dropout rate: {best_architecture['dropout_rate']}\")\n",
    "\n",
    "# Combine training and validation sets and retrain the best model\n",
    "X_train_val = np.vstack((X_train_scaled, X_val_scaled))\n",
    "y_train_val = np.vstack((y_train, y_val))\n",
    "\n",
    "best_model.fit(X_train_val, y_train_val, epochs=100, batch_size=32, verbose=0)\n",
    "\n",
    "# Evaluate the final model on the test set\n",
    "test_mae = best_model.evaluate(X_test_scaled, y_test, verbose=0)[1]\n",
    "print(f\"Test MAE: {test_mae}\")\n",
    "\n",
    "# Plot the training history\n",
    "plt.plot(best_history.history['mae'], label='Train MAE')\n",
    "plt.plot(best_history.history['val_mae'], label='Validation MAE')\n",
    "plt.xlabel('Epochs')\n",
    "plt.ylabel('Mean Absolute Error')\n",
    "plt.legend()\n",
    "plt.title('Training and Validation MAE')\n",
    "plt.show()\n"
   ]
  }
 ],
 "metadata": {
  "kernelspec": {
   "display_name": "base",
   "language": "python",
   "name": "python3"
  },
  "language_info": {
   "codemirror_mode": {
    "name": "ipython",
    "version": 3
   },
   "file_extension": ".py",
   "mimetype": "text/x-python",
   "name": "python",
   "nbconvert_exporter": "python",
   "pygments_lexer": "ipython3",
   "version": "3.12.4"
  }
 },
 "nbformat": 4,
 "nbformat_minor": 2
}
